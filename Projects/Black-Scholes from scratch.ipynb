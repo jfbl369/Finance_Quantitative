{
 "cells": [
  {
   "cell_type": "code",
   "execution_count": 6,
   "id": "d1f5ec17",
   "metadata": {},
   "outputs": [],
   "source": [
    "import numpy as np\n",
    "from scipy.stats import norm\n",
    "from IPython.display import display, Math"
   ]
  },
  {
   "cell_type": "code",
   "execution_count": 39,
   "id": "fa076735",
   "metadata": {
    "scrolled": true
   },
   "outputs": [
    {
     "name": "stdout",
     "output_type": "stream",
     "text": [
      "d1 and d2 formula:\n"
     ]
    },
    {
     "data": {
      "text/latex": [
       "$\\displaystyle d_1 = \\frac{{\\ln\\left(\\frac{S}{K}\\right) + \\left(r + \\frac{{\\sigma^2}}{2}\\right)T}}{{\\sigma \\sqrt{T}}}$"
      ],
      "text/plain": [
       "<IPython.core.display.Math object>"
      ]
     },
     "metadata": {},
     "output_type": "display_data"
    },
    {
     "data": {
      "text/latex": [
       "$\\displaystyle d_2 = d_1 - \\sigma \\sqrt{T}$"
      ],
      "text/plain": [
       "<IPython.core.display.Math object>"
      ]
     },
     "metadata": {},
     "output_type": "display_data"
    },
    {
     "name": "stdout",
     "output_type": "stream",
     "text": [
      "\n",
      "Call pricing formula:\n"
     ]
    },
    {
     "data": {
      "text/latex": [
       "$\\displaystyle C = S \\cdot N(d_1) - K \\cdot e^{-rT} \\cdot N(d_2)$"
      ],
      "text/plain": [
       "<IPython.core.display.Math object>"
      ]
     },
     "metadata": {},
     "output_type": "display_data"
    },
    {
     "data": {
      "text/latex": [
       "$\\displaystyle P(call \\, in \\, the \\, money) = N(d_2)$"
      ],
      "text/plain": [
       "<IPython.core.display.Math object>"
      ]
     },
     "metadata": {},
     "output_type": "display_data"
    },
    {
     "name": "stdout",
     "output_type": "stream",
     "text": [
      "\n",
      "Put pricing formula:\n"
     ]
    },
    {
     "data": {
      "text/latex": [
       "$\\displaystyle P = K \\cdot e^{-rT} \\cdot N(-d_2) - S \\cdot N(-d_1)$"
      ],
      "text/plain": [
       "<IPython.core.display.Math object>"
      ]
     },
     "metadata": {},
     "output_type": "display_data"
    },
    {
     "data": {
      "text/latex": [
       "$\\displaystyle P(put \\, in \\, the \\, money) = N(-d_2)$"
      ],
      "text/plain": [
       "<IPython.core.display.Math object>"
      ]
     },
     "metadata": {},
     "output_type": "display_data"
    }
   ],
   "source": [
    "d1_formula = r\"d_1 = \\frac{{\\ln\\left(\\frac{S}{K}\\right) + \\left(r + \\frac{{\\sigma^2}}{2}\\right)T}}{{\\sigma \\sqrt{T}}}\"\n",
    "d2_formula = r\"d_2 = d_1 - \\sigma \\sqrt{T}\"\n",
    "call_formula = r\"C = S \\cdot N(d_1) - K \\cdot e^{-rT} \\cdot N(d_2)\"\n",
    "call_probability_formula = r\"P(call \\, in \\, the \\, money) = N(d_2)\"\n",
    "put_formula = r\"P = K \\cdot e^{-rT} \\cdot N(-d_2) - S \\cdot N(-d_1)\"\n",
    "put_probability_formula = r\"P(put \\, in \\, the \\, money) = N(-d_2)\"\n",
    "\n",
    "print(\"d1 and d2 formula:\")\n",
    "display(Math(d1_formula))\n",
    "display(Math(d2_formula))\n",
    "print()\n",
    "print(\"Call pricing formula:\")\n",
    "display(Math(call_formula))\n",
    "display(Math(call_probability_formula))\n",
    "print()\n",
    "print(\"Put pricing formula:\")\n",
    "display(Math(put_formula))\n",
    "display(Math(put_probability_formula))"
   ]
  },
  {
   "cell_type": "markdown",
   "id": "ad07d1a1",
   "metadata": {},
   "source": [
    "# Components"
   ]
  },
  {
   "cell_type": "markdown",
   "id": "c7050705",
   "metadata": {},
   "source": [
    "### Example"
   ]
  },
  {
   "cell_type": "code",
   "execution_count": 24,
   "id": "ca04fabd",
   "metadata": {},
   "outputs": [],
   "source": [
    "S = 100  #underlying asset price\n",
    "K = 95  #strike price\n",
    "r = 0.05  #risk-free\n",
    "T = 0.5  #duration\n",
    "t = 0  #current time\n",
    "sigma = 0.2  #volatility"
   ]
  },
  {
   "cell_type": "markdown",
   "id": "5747b338",
   "metadata": {},
   "source": [
    "### d1 formula"
   ]
  },
  {
   "cell_type": "code",
   "execution_count": 50,
   "id": "c8da664a",
   "metadata": {},
   "outputs": [],
   "source": [
    "def d1_formula(S, K, T, r, sigma):\n",
    "    return (np.log(S / K) + (r + (sigma**2) / 2) * T) / (sigma * np.sqrt(T))"
   ]
  },
  {
   "cell_type": "code",
   "execution_count": 51,
   "id": "9be16641",
   "metadata": {},
   "outputs": [
    {
     "name": "stdout",
     "output_type": "stream",
     "text": [
      "d1 is equal to 0.6101857363236398\n"
     ]
    }
   ],
   "source": [
    "d1_value = d1_formula(S, K, T, r, sigma)\n",
    "print(\"d1 is equal to\", d1_value)"
   ]
  },
  {
   "cell_type": "markdown",
   "id": "5d555e29",
   "metadata": {},
   "source": [
    "### d2 formula"
   ]
  },
  {
   "cell_type": "code",
   "execution_count": 52,
   "id": "cd20d2f1",
   "metadata": {},
   "outputs": [],
   "source": [
    "def d2_formula(S, K, T, r, sigma):\n",
    "    return d1_formula(S, K, T, r, sigma) - sigma * np.sqrt(T)"
   ]
  },
  {
   "cell_type": "code",
   "execution_count": 53,
   "id": "3ed11f54",
   "metadata": {},
   "outputs": [
    {
     "name": "stdout",
     "output_type": "stream",
     "text": [
      "d2 is equal to 0.46876438008633026\n"
     ]
    }
   ],
   "source": [
    "d2_value = d2_formula(S, K, T, r, sigma)\n",
    "print(\"d2 is equal to\", d2_value)"
   ]
  },
  {
   "cell_type": "markdown",
   "id": "c0a93b9d",
   "metadata": {},
   "source": [
    "### Call option price"
   ]
  },
  {
   "cell_type": "code",
   "execution_count": 58,
   "id": "4a284453",
   "metadata": {},
   "outputs": [],
   "source": [
    "def call_price(S, K, T, r, sigma):\n",
    "    d1 = d1_value\n",
    "    d2 = d2_value\n",
    "    call = norm.cdf(d1) * S - norm.cdf(d2) * K * np.exp(-r * T)\n",
    "    return call"
   ]
  },
  {
   "cell_type": "code",
   "execution_count": 60,
   "id": "a3dadd6e",
   "metadata": {},
   "outputs": [
    {
     "name": "stdout",
     "output_type": "stream",
     "text": [
      "Call option price : 9.872742400408974\n"
     ]
    }
   ],
   "source": [
    "call_price_value = call_price(S, K, T, r, sigma)\n",
    "print(\"Call option price :\", call_price_value)"
   ]
  },
  {
   "cell_type": "markdown",
   "id": "5b90c246",
   "metadata": {},
   "source": [
    "#### Call probability to be in the money (at maturity)"
   ]
  },
  {
   "cell_type": "code",
   "execution_count": 66,
   "id": "a04cdf52",
   "metadata": {},
   "outputs": [],
   "source": [
    "def call_in_the_money(S, K, T, r, sigma):\n",
    "    d2 = d2_formula(S, K, T, r, sigma)\n",
    "    return norm.cdf(d2)"
   ]
  },
  {
   "cell_type": "code",
   "execution_count": 68,
   "id": "ea411b25",
   "metadata": {},
   "outputs": [
    {
     "name": "stdout",
     "output_type": "stream",
     "text": [
      "Call probability to be in the money (at maturity) : 0.6803809684113931\n"
     ]
    }
   ],
   "source": [
    "call_in_the_money_value = call_in_the_money(S, K, T, r, sigma)\n",
    "print(\"Call probability to be in the money (at maturity) :\", call_in_the_money_value)"
   ]
  },
  {
   "cell_type": "markdown",
   "id": "74b87599",
   "metadata": {},
   "source": [
    "### Put option price"
   ]
  },
  {
   "cell_type": "code",
   "execution_count": 71,
   "id": "91ed70d8",
   "metadata": {},
   "outputs": [],
   "source": [
    "def put_price(S, K, T, r, sigma):\n",
    "    d1 = d1_value\n",
    "    d2 = d2_value\n",
    "    return norm.cdf(-d2) * K * np.exp(-r*T) - norm.cdf(-d1) * S"
   ]
  },
  {
   "cell_type": "code",
   "execution_count": 72,
   "id": "f4dba449",
   "metadata": {},
   "outputs": [
    {
     "name": "stdout",
     "output_type": "stream",
     "text": [
      "Put option price : 2.527184043100572\n"
     ]
    }
   ],
   "source": [
    "put_price_value = put_price(S, K, T, r, sigma)\n",
    "print(\"Put option price :\", put_price_value)"
   ]
  },
  {
   "cell_type": "markdown",
   "id": "35f770fc",
   "metadata": {},
   "source": [
    "#### Put probability to be in the money (at maturity)"
   ]
  },
  {
   "cell_type": "code",
   "execution_count": 73,
   "id": "125a1edc",
   "metadata": {},
   "outputs": [],
   "source": [
    "def put_in_the_money(S, K, T, r, sigma):\n",
    "    d2 = d2_formula(S, K, T, r, sigma)\n",
    "    return 1 - norm.cdf(d2)"
   ]
  },
  {
   "cell_type": "code",
   "execution_count": 74,
   "id": "b27455ba",
   "metadata": {
    "scrolled": true
   },
   "outputs": [
    {
     "name": "stdout",
     "output_type": "stream",
     "text": [
      "Put probability to be in the money (at maturity) : 0.31961903158860694\n"
     ]
    }
   ],
   "source": [
    "put_in_the_money_value = put_in_the_money(S, K, T, r, sigma)\n",
    "print(\"Put probability to be in the money (at maturity) :\", put_in_the_money_value)"
   ]
  }
 ],
 "metadata": {
  "kernelspec": {
   "display_name": "Python 3 (ipykernel)",
   "language": "python",
   "name": "python3"
  },
  "language_info": {
   "codemirror_mode": {
    "name": "ipython",
    "version": 3
   },
   "file_extension": ".py",
   "mimetype": "text/x-python",
   "name": "python",
   "nbconvert_exporter": "python",
   "pygments_lexer": "ipython3",
   "version": "3.9.12"
  }
 },
 "nbformat": 4,
 "nbformat_minor": 5
}
