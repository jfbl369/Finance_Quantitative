{
  "nbformat": 4,
  "nbformat_minor": 0,
  "metadata": {
    "colab": {
      "provenance": []
    },
    "kernelspec": {
      "name": "python3",
      "display_name": "Python 3"
    },
    "language_info": {
      "name": "python"
    }
  },
  "cells": [
    {
      "cell_type": "markdown",
      "source": [
        "# Projet : Modèle Binomial de Cox-Ross-Rubinstein (1 période)\n",
        "Date : 17/12/2024\n",
        "\n",
        "Objectif :\n",
        "- Construire un arbre binomial simple à 1 période.\n",
        "- Calculer le prix d’un call européen par espérance sous mesure risque-neutre.\n",
        "- Déterminer la stratégie de couverture (portefeuille de réplication).\n",
        "\n",
        "But :\n",
        "- Comprendre le modèle de Cox-Ross-Rubinstein.\n",
        "- Comprendre les liens entre probabilité risque-neutre, couverture, et valorisation sans arbitrage.\n"
      ],
      "metadata": {
        "id": "FuFpI-_z68pH"
      }
    },
    {
      "cell_type": "markdown",
      "source": [
        "# I) Calcul du prix du call C0"
      ],
      "metadata": {
        "id": "H4uxuQ2g51iH"
      }
    },
    {
      "cell_type": "code",
      "source": [
        "#Librairies\n",
        "import math\n",
        "from IPython.display import Markdown\n",
        "\n",
        "#Paramètres\n",
        "S0 = 100\n",
        "u = 1.2214\n",
        "d = 0.8187\n",
        "r = 0.05\n",
        "K = 100\n",
        "Su = round(S0 * u, 2)\n",
        "Sd = round(S0 * d, 2)\n",
        "\n",
        "#Payoffs du call\n",
        "Cu = max(Su - K, 0)\n",
        "Cd = max(Sd - K, 0)\n",
        "\n",
        "#Probabilité risque-neutre\n",
        "q = round((1 + r - d) / (u - d), 3)\n",
        "q_comp = round(1 - q, 3)\n",
        "\n",
        "#Prix du call aujourd’hui\n",
        "C0 = round((q * Cu + (1 - q) * Cd) / (1 + r), 2)\n",
        "\n",
        "#Graphe\n",
        "print(\"Arbre binomial à 1 période d'un call EU\\n\")\n",
        "print(f\"t = 0                   {S0:.2f} €                          \")\n",
        "print(\"                         /     \\                             \")\n",
        "print(\"                        /       \\                            \")\n",
        "print(f\"t = 1              {Sd:.2f} €     {Su:.2f} €                \")\n",
        "print(f\"Payoff:          (→ {Cd:.2f} €)    (→ {Cu:.2f} €)           \")\n",
        "print()\n",
        "print(f\"Probabilité risque-neutre q = {q}\")\n",
        "print(f\"Prix du call C0 = {C0} €\")"
      ],
      "metadata": {
        "colab": {
          "base_uri": "https://localhost:8080/"
        },
        "id": "obEgpjVip_5C",
        "outputId": "5ab19540-5921-4d70-d3f1-e8e53c2468aa"
      },
      "execution_count": 24,
      "outputs": [
        {
          "output_type": "stream",
          "name": "stdout",
          "text": [
            "Arbre binomial à 1 période d'un call EU\n",
            "\n",
            "t = 0                   100.00 €                          \n",
            "                         /     \\                             \n",
            "                        /       \\                            \n",
            "t = 1              81.87 €     122.14 €                \n",
            "Payoff:          (→ 0.00 €)    (→ 22.14 €)           \n",
            "\n",
            "Probabilité risque-neutre q = 0.574\n",
            "Prix du call C0 = 12.1 €\n"
          ]
        }
      ]
    },
    {
      "cell_type": "markdown",
      "source": [
        "---"
      ],
      "metadata": {
        "id": "ktbs1AV46Cif"
      }
    },
    {
      "cell_type": "code",
      "source": [
        "# @title Interprétation dynamique du modèle binomial { display-mode: \"form\" }\n",
        "#Affichage dynamique\n",
        "Markdown(f\"\"\"\n",
        "\n",
        "### 1) Prix initial du sous-jacent\n",
        "On suppose que le prix de l’actif au temps \\\\( t = 0 \\\\) est:\n",
        "$$ S_0 = {S0} $$\n",
        "\n",
        "---\n",
        "\n",
        "### 2) Facteurs d’évolution du prix : $ u $ et $ d $\n",
        "\n",
        "Les facteurs d’évolution à la hausse et à la baisse sont donnés par la méthode de Cox-Ross-Rubinstein:\n",
        "$$ u = e^{{\\\\sigma \\\\sqrt{{\\\\Delta t}}}} = e^{{0.2}} \\\\approx {u:.4f} $$\n",
        "$$ d = e^{{-\\\\sigma \\\\sqrt{{\\\\Delta t}}}} = e^{{-0.2}} \\\\approx {d:.4f} $$\n",
        "\n",
        "avec: $ \\\\sigma $ = 0.2 , $ \\\\Delta $ t = 1 an\n",
        "\n",
        "---\n",
        "\n",
        "### 3) Prix possibles à l’instant \\\\( t = 1 \\\\)\n",
        "\n",
        "Si le prix monte, on obtient: $ S_u = u \\\\cdot S_0 = {u:.4f} \\\\cdot {S0} = {Su:.2f} $\n",
        "\n",
        "Si le prix baisse: $ S_d = d \\\\cdot S_0 = {d:.4f} \\\\cdot {S0} = {Sd:.2f} $\n",
        "\n",
        "---\n",
        "\n",
        "### 4) Payoffs du call\n",
        "\n",
        "On considère une option call européenne de strike \\\\( K = {K} \\\\). Son payoff est:\n",
        "$$ C_u = \\\\max(S_u - K, 0) = \\\\max({Su:.2f} - {K}, 0) = {Cu:.2f} $$\n",
        "$$ C_d = \\\\max(S_d - K, 0) = \\\\max({Sd:.2f} - {K}, 0) = {Cd:.2f} $$\n",
        "\n",
        "---\n",
        "\n",
        "### 5) Probabilité risque-neutre $ q $\n",
        "\n",
        "La probabilité risque-neutre est définie par: $ q = \\\\frac{{1 + r - d}}{{u - d}} $\n",
        "\n",
        "Substitution numérique: $ q = \\\\frac{{1.05 - {d:.4f}}}{{{u:.4f} - {d:.4f}}} = \\\\frac{{{(1.05 - d):.4f}}}{{{(u - d):.4f}}} \\\\approx {q} $\n",
        "\n",
        "---\n",
        "\n",
        "### 6) Prix du call aujourd’hui\n",
        "\n",
        "Le prix de l’option aujourd’hui (temps t = 0) est donné par l’espérance du payoff sous la mesure risque-neutre, actualisée au taux sans risque:\n",
        "\n",
        "$$ C_0 = \\\\frac{{q \\\\cdot C_u + (1 - q) \\\\cdot C_d}}{{1 + r}} $$\n",
        "\n",
        "Substitution numérique: $ C_0 = \\\\frac{{{q} \\\\cdot {Cu:.2f} + {q_comp} \\\\cdot {Cd:.2f}}}{{1.05}} \\\\approx {C0:.2f} $\n",
        "\n",
        "\"\"\")"
      ],
      "metadata": {
        "colab": {
          "base_uri": "https://localhost:8080/",
          "height": 697
        },
        "id": "jIdLuzKHyVdM",
        "outputId": "f18baff7-8266-4ecb-869a-384202c3bf5a"
      },
      "execution_count": 20,
      "outputs": [
        {
          "output_type": "execute_result",
          "data": {
            "text/plain": [
              "<IPython.core.display.Markdown object>"
            ],
            "text/markdown": "\n\n### 1) Prix initial du sous-jacent\nOn suppose que le prix de l’actif au temps \\( t = 0 \\) est:  \n$$ S_0 = 100 $$\n\n---\n\n### 2) Facteurs d’évolution du prix : $ u $ et $ d $\n\nLes facteurs d’évolution à la hausse et à la baisse sont donnés par la méthode de Cox-Ross-Rubinstein:  \n$$ u = e^{\\sigma \\sqrt{\\Delta t}} = e^{0.2} \\approx 1.2214 $$\n$$ d = e^{-\\sigma \\sqrt{\\Delta t}} = e^{-0.2} \\approx 0.8187 $$\n\navec: $ \\sigma $ = 0.2 , $ \\Delta $ t = 1 an\n\n---\n\n### 3) Prix possibles à l’instant \\( t = 1 \\)\n\nSi le prix monte, on obtient: $ S_u = u \\cdot S_0 = 1.2214 \\cdot 100 = 122.14 $\n\nSi le prix baisse: $ S_d = d \\cdot S_0 = 0.8187 \\cdot 100 = 81.87 $\n\n---\n\n### 4) Payoffs du call\n\nOn considère une option call européenne de strike \\( K = 100 \\). Son payoff est:  \n$$ C_u = \\max(S_u - K, 0) = \\max(122.14 - 100, 0) = 22.14 $$\n$$ C_d = \\max(S_d - K, 0) = \\max(81.87 - 100, 0) = 0.00 $$\n\n---\n\n### 5) Probabilité risque-neutre $ q $\n\nLa probabilité risque-neutre est définie par: $ q = \\frac{1 + r - d}{u - d} $\n\nSubstitution numérique: $ q = \\frac{1.05 - 0.8187}{1.2214 - 0.8187} = \\frac{0.2313}{0.4027} \\approx 0.574 $\n\n---\n\n### 6) Prix du call aujourd’hui\n\nLe prix de l’option aujourd’hui (temps t = 0) est donné par l’espérance du payoff sous la mesure risque-neutre, actualisée au taux sans risque:\n\n$$ C_0 = \\frac{q \\cdot C_u + (1 - q) \\cdot C_d}{1 + r} $$\n\nSubstitution numérique: $ C_0 = \\frac{0.574 \\cdot 22.14 + 0.426 \\cdot 0.00}{1.05} \\approx 12.10 $\n\n"
          },
          "metadata": {},
          "execution_count": 20
        }
      ]
    },
    {
      "cell_type": "markdown",
      "source": [
        "# II) Calcul de la stratégie de couverture\n"
      ],
      "metadata": {
        "id": "6hPcrV732UNr"
      }
    },
    {
      "cell_type": "markdown",
      "source": [
        "####Étape 1: calcul du nombre d'actions dans le portefeuille\n"
      ],
      "metadata": {
        "id": "Tabuq-cL2dnH"
      }
    },
    {
      "cell_type": "code",
      "source": [
        "phi = round((Cu - Cd) / (Su - Sd), 4)\n",
        "print(f\"phi = \", phi)"
      ],
      "metadata": {
        "colab": {
          "base_uri": "https://localhost:8080/"
        },
        "id": "0sya4gx22aTX",
        "outputId": "68c410bc-d02f-4325-c545-080eaaf4fa9e"
      },
      "execution_count": 4,
      "outputs": [
        {
          "output_type": "stream",
          "name": "stdout",
          "text": [
            "phi =  0.5498\n"
          ]
        }
      ]
    },
    {
      "cell_type": "markdown",
      "source": [
        "####Étape 2: calcul du montant placé dans l’actif sans risque\n"
      ],
      "metadata": {
        "id": "bYR6uPiT2fpw"
      }
    },
    {
      "cell_type": "code",
      "source": [
        "x = round((Cd - phi * Sd) / (1 + r), 4)\n",
        "print(f\"x = \", x)"
      ],
      "metadata": {
        "colab": {
          "base_uri": "https://localhost:8080/"
        },
        "id": "X2KygRK32pBU",
        "outputId": "c8ff36a7-4c3d-4437-a62a-d11b108274fb"
      },
      "execution_count": 5,
      "outputs": [
        {
          "output_type": "stream",
          "name": "stdout",
          "text": [
            "x =  -42.8687\n"
          ]
        }
      ]
    },
    {
      "cell_type": "markdown",
      "source": [
        "####Étape 3: valeur du portefeuille à t = 0\n"
      ],
      "metadata": {
        "id": "l-tDpPS62stv"
      }
    },
    {
      "cell_type": "code",
      "source": [
        "V0 = round(phi * S0 + x, 4)\n",
        "print(f\"V0 = \", V0)"
      ],
      "metadata": {
        "colab": {
          "base_uri": "https://localhost:8080/"
        },
        "id": "VJypWFhH10JI",
        "outputId": "bd30b72f-1435-4de4-e148-075806936bc2"
      },
      "execution_count": 6,
      "outputs": [
        {
          "output_type": "stream",
          "name": "stdout",
          "text": [
            "V0 =  12.1113\n"
          ]
        }
      ]
    },
    {
      "cell_type": "code",
      "source": [
        "# @title Stratégie de couverture à une période (portefeuille auto-financé) { display-mode: \"form\" }\n",
        "# Affichage dynamique en Markdown\n",
        "from IPython.display import Markdown\n",
        "\n",
        "Markdown(f\"\"\"\n",
        "\n",
        "### 1) Objectif\n",
        "\n",
        "Trouver un portefeuille composé de :\n",
        "- $ \\\\phi $: nombre d'actions\n",
        "- $ x $: montant investi dans l'actif sans risque\n",
        "\n",
        "Tel que le portefeuille reproduise parfaitement le payoff du call à \\( t = 1 \\).\n",
        "\n",
        "---\n",
        "\n",
        "### 2) Système d’équations\n",
        "\n",
        "On impose que :\n",
        "\n",
        "$$\n",
        "\\\\begin{{cases}}\n",
        "\\\\phi \\\\cdot S_u + x \\\\cdot (1 + r) = C_u = {Cu:.2f} \\\\\\\\\n",
        "\\\\phi \\\\cdot S_d + x \\\\cdot (1 + r) = C_d = {Cd:.2f}\n",
        "\\\\end{{cases}}\n",
        "$$\n",
        "\n",
        "---\n",
        "\n",
        "### 3) Résolution\n",
        "\n",
        "On calcule d'abord $ \\\\phi $:\n",
        "\n",
        "$$\n",
        "\\\\phi = \\\\frac{{C_u - C_d}}{{S_u - S_d}} = \\\\frac{{{Cu:.2f} - {Cd:.2f}}}{{{Su:.2f} - {Sd:.2f}}} = {phi}\n",
        "$$\n",
        "\n",
        "Puis on en déduit $ x $:\n",
        "\n",
        "$$\n",
        "x = \\\\frac{{C_d - \\\\phi \\\\cdot S_d}}{{1 + r}} = \\\\frac{{{Cd:.2f} - {phi} \\\\cdot {Sd:.2f}}}{{1.05}} = {x}\n",
        "$$\n",
        "\n",
        "---\n",
        "\n",
        "### 4) Valeur du portefeuille à t = 0\n",
        "\n",
        "$$\n",
        "V_0 = \\\\phi \\\\cdot S_0 + x = {phi} \\\\cdot {S0} + {x} = {V0}\n",
        "$$\n",
        "\n",
        "$$ C_0 = {C0} $$\n",
        "\"\"\")"
      ],
      "metadata": {
        "colab": {
          "base_uri": "https://localhost:8080/",
          "height": 539
        },
        "id": "ZYcH6Ifn1z7K",
        "outputId": "10282f29-b24a-4110-9440-c415e323c89a"
      },
      "execution_count": 22,
      "outputs": [
        {
          "output_type": "execute_result",
          "data": {
            "text/plain": [
              "<IPython.core.display.Markdown object>"
            ],
            "text/markdown": "\n\n### 1) Objectif\n\nTrouver un portefeuille composé de :\n- $ \\phi $: nombre d'actions\n- $ x $: montant investi dans l'actif sans risque\n\nTel que le portefeuille reproduise parfaitement le payoff du call à \\( t = 1 \\).\n\n---\n\n### 2) Système d’équations\n\nOn impose que :\n\n$$\n\\begin{cases}\n\\phi \\cdot S_u + x \\cdot (1 + r) = C_u = 22.14 \\\\\n\\phi \\cdot S_d + x \\cdot (1 + r) = C_d = 0.00\n\\end{cases}\n$$\n\n---\n\n### 3) Résolution\n\nOn calcule d'abord $ \\phi $:\n\n$$\n\\phi = \\frac{C_u - C_d}{S_u - S_d} = \\frac{22.14 - 0.00}{122.14 - 81.87} = 0.5498\n$$\n\nPuis on en déduit $ x $:\n\n$$\nx = \\frac{C_d - \\phi \\cdot S_d}{1 + r} = \\frac{0.00 - 0.5498 \\cdot 81.87}{1.05} = -42.8687\n$$\n\n---\n\n### 4) Valeur du portefeuille à t = 0\n\n$$\nV_0 = \\phi \\cdot S_0 + x = 0.5498 \\cdot 100 + -42.8687 = 12.1113\n$$\n\n$$ C_0 = 12.1 $$\n"
          },
          "metadata": {},
          "execution_count": 22
        }
      ]
    }
  ]
}